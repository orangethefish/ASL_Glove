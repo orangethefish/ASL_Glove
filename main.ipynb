{
 "cells": [
  {
   "cell_type": "markdown",
   "metadata": {},
   "source": [
    "# Deep learning in time series classification (ResNet)"
   ]
  },
  {
   "cell_type": "code",
   "execution_count": null,
   "metadata": {},
   "outputs": [
    {
     "ename": "",
     "evalue": "",
     "output_type": "error",
     "traceback": [
      "\u001b[1;31mRunning cells with 'Python 3.12.3' requires the ipykernel package.\n",
      "\u001b[1;31mRun the following command to install 'ipykernel' into the Python environment. \n",
      "\u001b[1;31mCommand: '/usr/local/bin/python3.12 -m pip install ipykernel -U --user --force-reinstall'"
     ]
    }
   ],
   "source": [
    "!pip install tensorflow, keras, numpy, matplotlib, scikit-learn"
   ]
  },
  {
   "cell_type": "code",
   "execution_count": null,
   "metadata": {},
   "outputs": [
    {
     "ename": "",
     "evalue": "",
     "output_type": "error",
     "traceback": [
      "\u001b[1;31mRunning cells with 'Python 3.12.3' requires the ipykernel package.\n",
      "\u001b[1;31mRun the following command to install 'ipykernel' into the Python environment. \n",
      "\u001b[1;31mCommand: '/usr/local/bin/python3.12 -m pip install ipykernel -U --user --force-reinstall'"
     ]
    }
   ],
   "source": [
    "# !unzip -qq \"ASL-Sensor-Dataglove-Dataset.zip\" -d glove_data"
   ]
  },
  {
   "cell_type": "code",
   "execution_count": null,
   "metadata": {},
   "outputs": [
    {
     "ename": "",
     "evalue": "",
     "output_type": "error",
     "traceback": [
      "\u001b[1;31mRunning cells with 'Python 3.12.3' requires the ipykernel package.\n",
      "\u001b[1;31mRun the following command to install 'ipykernel' into the Python environment. \n",
      "\u001b[1;31mCommand: '/usr/local/bin/python3.12 -m pip install ipykernel -U --user --force-reinstall'"
     ]
    }
   ],
   "source": [
    "import tensorflow as tf\n",
    "import os\n",
    "import glob\n",
    "import numpy as np\n",
    "import pandas as pd\n",
    "import tensorflow as tf\n",
    "from tensorflow.keras import layers, models\n",
    "from sklearn.model_selection import train_test_split\n",
    "from sklearn.preprocessing import OneHotEncoder\n",
    "from tensorflow.keras.layers import Input, Conv1D, MaxPooling1D, Flatten, Dense, Dropout, Concatenate\n",
    "from tensorflow.keras.models import Model\n",
    "\n",
    "class TimeSeriesDataset:\n",
    "    def __init__(self, root_dir, feature_names=[]):\n",
    "        self.data = self.load_data(root_dir, feature_names)\n",
    "\n",
    "    def load_data(self, root_dir, feature_names):\n",
    "        data = []\n",
    "\n",
    "        for individual_dir in sorted(os.listdir(root_dir)):\n",
    "            individual_path = os.path.join(root_dir, individual_dir)\n",
    "            for class_dir in sorted(os.listdir(individual_path)):\n",
    "                class_path = os.path.join(individual_path, class_dir)\n",
    "                if os.path.isdir(class_path):\n",
    "                    for file in glob.glob(os.path.join(class_path, \"*.csv\")):\n",
    "                        df = pd.read_csv(file, usecols=feature_names)\n",
    "                        class_name = os.path.splitext(os.path.basename(file))[0]\n",
    "                        df[\"class\"] = class_name\n",
    "                        data.append(df)\n",
    "\n",
    "\n",
    "        # Concatenate all data frames into a single data frame\n",
    "        data = pd.concat(data, ignore_index=True)\n",
    "        \n",
    "        return data\n",
    "    \n",
    "root_dir = \"glove_data\"\n",
    "feature_names = [\n",
    "    \"flex_1\", \"flex_2\", \"flex_3\", \"flex_4\", \"flex_5\",\n",
    "    \"GYRx\", \"GYRy\", \"GYRz\",\n",
    "    \"ACCx\", \"ACCy\", \"ACCz\"\n",
    "]\n",
    "\n",
    "dataset = TimeSeriesDataset(root_dir, feature_names).data\n",
    "dataset = dataset.sort_values(by=[\"class\"])\n",
    "# X, y = dataset.iloc[:, :-1].values, dataset.iloc[:, -1].values\n",
    "# x_train, x_test, y_train, y_test = train_test_split(X, y, shuffle=True, test_size=0.3)\n",
    "\n",
    "\n",
    "n_features = 11\n",
    "num_classes = 40\n",
    "samples_per_class = 250\n",
    "timesteps = 150\n",
    "total_samples = num_classes * samples_per_class\n",
    "\n",
    "x = np.random.rand(total_samples, timesteps, n_features)\n",
    "y = np.repeat(np.arange(num_classes), samples_per_class)\n",
    "\n",
    "# One-hot encode the labels\n",
    "y_one_hot = tf.keras.utils.to_categorical(y, num_classes)\n",
    "\n",
    "# Train-test split\n",
    "x_train, x_test, y_train, y_test = train_test_split(x, y_one_hot, test_size=0.2, random_state=42, shuffle=True)\n",
    "\n",
    "def build_mcdcnn(input_shape, num_classes):\n",
    "    inputs = Input(shape=input_shape)\n",
    "\n",
    "    convs = []\n",
    "    for i in range(input_shape[-1]):\n",
    "        conv = Conv1D(filters=32, kernel_size=5, activation='relu')(inputs[:, :, i:i+1])\n",
    "        conv = MaxPooling1D(pool_size=2)(conv)\n",
    "        conv = Dropout(0.2)(conv)\n",
    "        conv = Flatten()(conv)\n",
    "        convs.append(conv)\n",
    "\n",
    "    merged = Concatenate()(convs)\n",
    "    dense = Dense(64, activation='relu')(merged)\n",
    "    dense = Dropout(0.5)(dense)\n",
    "    outputs = Dense(num_classes, activation='softmax')(dense)\n",
    "\n",
    "    model = Model(inputs=inputs, outputs=outputs)\n",
    "    return model\n",
    "\n",
    "# Build and compile the model\n",
    "input_shape = (timesteps, n_features)\n",
    "model = build_mcdcnn(input_shape, num_classes)\n",
    "model.compile(optimizer='adam', loss='categorical_crossentropy', metrics=['accuracy'])\n",
    "\n",
    "# Print model summary\n",
    "model.summary()\n",
    "\n",
    "# Train the model\n",
    "history = model.fit(x_train, y_train, epochs=50, batch_size=32, validation_split=0.2)\n",
    "\n",
    "# Evaluate the model\n",
    "test_loss, test_acc = model.evaluate(x_test, y_test)\n",
    "print(f\"Test accuracy: {test_acc}\")"
   ]
  }
 ],
 "metadata": {
  "kernelspec": {
   "display_name": "Python 3",
   "language": "python",
   "name": "python3"
  },
  "language_info": {
   "codemirror_mode": {
    "name": "ipython",
    "version": 3
   },
   "file_extension": ".py",
   "mimetype": "text/x-python",
   "name": "python",
   "nbconvert_exporter": "python",
   "pygments_lexer": "ipython3",
   "version": "3.12.3"
  }
 },
 "nbformat": 4,
 "nbformat_minor": 2
}
